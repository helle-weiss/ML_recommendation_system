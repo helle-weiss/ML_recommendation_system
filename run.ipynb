{
 "cells": [
  {
   "cell_type": "code",
   "execution_count": 1,
   "metadata": {},
   "outputs": [
    {
     "name": "stderr",
     "output_type": "stream",
     "text": [
      "Using TensorFlow backend.\n"
     ]
    }
   ],
   "source": [
    "import pickle\n",
    "\n",
    "from helpers import *\n",
    "from models import *\n",
    "from grid_and_CV import *\n",
    "from surprise.model_selection import train_test_split\n",
    "\n",
    "%load_ext autoreload\n",
    "%autoreload 2"
   ]
  },
  {
   "cell_type": "code",
   "execution_count": 2,
   "metadata": {},
   "outputs": [],
   "source": [
    "seed = 1\n",
    "load_models = True # If False, will run them instead (takes time!)"
   ]
  },
  {
   "cell_type": "markdown",
   "metadata": {},
   "source": [
    "## Load and explore data"
   ]
  },
  {
   "cell_type": "code",
   "execution_count": 3,
   "metadata": {},
   "outputs": [],
   "source": [
    "train_path = \"data/data_train.csv\"\n",
    "test_path = \"data/data_test.csv\""
   ]
  },
  {
   "cell_type": "code",
   "execution_count": 4,
   "metadata": {},
   "outputs": [],
   "source": [
    "# training data\n",
    "data = load_data(train_path)\n",
    "# submission data\n",
    "data_to_predict = load_data(test_path)"
   ]
  },
  {
   "cell_type": "code",
   "execution_count": 5,
   "metadata": {},
   "outputs": [
    {
     "name": "stdout",
     "output_type": "stream",
     "text": [
      "Rates per user:\n",
      "min: 3\n",
      "max: 522\n",
      "mean: 117.6952\n",
      "\n",
      "Rates per movie:\n",
      "min: 8\n",
      "max: 4590\n",
      "mean: 1176.952\n"
     ]
    },
    {
     "data": {
      "image/png": "[encoded data removed]",
      "text/plain": [
       "<Figure size 720x216 with 2 Axes>"
      ]
     },
     "metadata": {
      "needs_background": "light"
     },
     "output_type": "display_data"
    }
   ],
   "source": [
    "fig_folder = 'figures/'\n",
    "explore_data(data, fig_folder)"
   ]
  },
  {
   "cell_type": "markdown",
   "metadata": {},
   "source": [
    "## Prepare the format of the data"
   ]
  },
  {
   "cell_type": "code",
   "execution_count": 6,
   "metadata": {},
   "outputs": [],
   "source": [
    "# get data ready for Surprise format\n",
    "data_surprise = transform_surprise(data)\n",
    "train, test = train_test_split(data_surprise, test_size=0.1, random_state=2)\n",
    "\n",
    "final_train = data_surprise.build_full_trainset()\n",
    "\n",
    "final_test = transform_surprise(data_to_predict)\n",
    "final_test = final_test.build_full_trainset().build_testset()\n",
    "final_test = sorted(final_test, key=lambda x: (x[1], x[0]))"
   ]
  },
  {
   "cell_type": "code",
   "execution_count": 7,
   "metadata": {},
   "outputs": [],
   "source": [
    "# format for ALS and SGD:\n",
    "train_matrix = sparse_matrix(train)\n",
    "final_train_matrix = sparse_matrix(final_train)\n",
    "test_matrix = separate_indices(test)\n",
    "final_test_matrix = separate_indices(final_test)"
   ]
  },
  {
   "cell_type": "code",
   "execution_count": 8,
   "metadata": {},
   "outputs": [],
   "source": [
    "# the ratings of the test set\n",
    "test_ratings = test_matrix[2]"
   ]
  },
  {
   "cell_type": "markdown",
   "metadata": {},
   "source": [
    "## Run or load the models"
   ]
  },
  {
   "cell_type": "code",
   "execution_count": 9,
   "metadata": {},
   "outputs": [],
   "source": [
    "if load_models:\n",
    "    \n",
    "    prediction_ALS = pickle.load(open('models/prediction_ALS.pkl', 'rb'))\n",
    "    prediction_SGD = pickle.load(open('models/prediction_SGD.pkl', 'rb'))\n",
    "    prediction_baseline = pickle.load(open('models/prediction_baseline.pkl', 'rb'))\n",
    "    prediction_baseline_user = pickle.load(open('models/prediction_baseline_user.pkl', 'rb'))\n",
    "    prediction_baseline_item = pickle.load(open('models/prediction_baseline_item.pkl', 'rb'))\n",
    "    prediction_basicKNN = pickle.load(open('models/prediction_basicKNN.pkl', 'rb'))\n",
    "    prediction_meansKNN = pickle.load(open('models/prediction_meansKNN.pkl', 'rb'))\n",
    "    prediction_zscore_item = pickle.load(open('models/prediction_zscore_item.pkl', 'rb'))\n",
    "    prediction_SVD = pickle.load(open('models/prediction_SVD.pkl', 'rb'))\n",
    "    prediction_SVDpp = pickle.load(open('models/prediction_SVDpp.pkl', 'rb'))\n",
    "    prediction_NMF = pickle.load(open('models/prediction_NMF.pkl', 'rb'))\n",
    "    prediction_slopeOne = pickle.load(open('models/prediction_slopeOne.pkl', 'rb'))\n",
    "\n",
    "    final_prediction_ALS = pickle.load(open('final_models/prediction_ALS.pkl', 'rb'))\n",
    "    final_prediction_SGD = pickle.load(open('final_models/prediction_SGD.pkl', 'rb'))\n",
    "    final_prediction_baseline = pickle.load(open('final_models/prediction_baseline.pkl', 'rb'))\n",
    "    final_prediction_baseline_user = pickle.load(open('final_models/prediction_baseline_user.pkl', 'rb'))\n",
    "    final_prediction_baseline_item = pickle.load(open('final_models/prediction_baseline_item.pkl', 'rb'))\n",
    "    final_prediction_basicKNN = pickle.load(open('final_models/prediction_basicKNN.pkl', 'rb'))\n",
    "    final_prediction_meansKNN = pickle.load(open('final_models/prediction_meansKNN.pkl', 'rb'))\n",
    "    final_prediction_zscore_item = pickle.load(open('final_models/prediction_zscore_item.pkl', 'rb'))\n",
    "    final_prediction_SVD = pickle.load(open('final_models/prediction_SVD.pkl', 'rb'))\n",
    "    final_prediction_SVDpp = pickle.load(open('final_models/prediction_SVDpp.pkl', 'rb'))\n",
    "    final_prediction_NMF = pickle.load(open('final_models/prediction_NMF.pkl', 'rb'))\n",
    "    final_prediction_slopeOne = pickle.load(open('final_models/prediction_slopeOne.pkl', 'rb'))\n",
    "\n",
    "else:\n",
    "    \n",
    "    # Parameters for ALS and SGD, chosen with grid search:\n",
    "    num_features = 40\n",
    "    lambda_user = 0.1\n",
    "    lambda_movie = 0.1\n",
    "    stop_criterion = 1e-4\n",
    "    gamma = 0.01 # only SGD\n",
    "    \n",
    "    # Parameter for SVD and SVDpp, chosen with grid search:\n",
    "    rate = 0.001\n",
    "    \n",
    "    prediction_ALS = ALS(train_matrix, test_matrix, num_features, lambda_user, lambda_movie, stop_criterion)\n",
    "    prediction_SGD = SGD(train_matrix, test_matrix, num_features, lambda_user, lambda_movie, gamma, stop_criterion)\n",
    "    prediction_baseline = baseline(train, test)\n",
    "    prediction_baseline_user = baselineKNN_user(train, test)\n",
    "    prediction_baseline_item = baselineKNN_item(train, test)\n",
    "    prediction_basicKNN = basicKNN(train, test)\n",
    "    prediction_meansKNN = meansKNN(train, test)\n",
    "    prediction_zscore_item = zscoreKNN_item(train, test) # zscore_user is also implemented, but shows the same result\n",
    "    prediction_SVD = SVD(train, test, rate)\n",
    "    prediction_SVDpp = SVDpp(train, test, rate)\n",
    "    prediction_NMF = NMF(train, test)\n",
    "    prediction_slopeOne = slopeOne(train, test)\n",
    "    \n",
    "    final_prediction_ALS = ALS(final_train_matrix, final_test_matrix, num_features, lambda_user, lambda_movie, stop_criterion)\n",
    "    final_prediction_SGD = SGD(final_train_matrix, final_test_matrix, num_features, lambda_user, lambda_movie, gamma, stop_criterion)\n",
    "    final_prediction_baseline = baseline(final_train, final_test)\n",
    "    final_prediction_baseline_user = baselineKNN_user(final_train, final_test)\n",
    "    final_prediction_baseline_item = baselineKNN_item(final_train, final_test)\n",
    "    final_prediction_basicKNN = basicKNN(final_train, final_test)\n",
    "    final_prediction_meansKNN = meansKNN(final_train, final_test)\n",
    "    final_prediction_zscore_item = zscoreKNN_item(final_train, final_test) \n",
    "    final_prediction_SVD = SVD(final_train, final_test, rate)\n",
    "    final_prediction_SVDpp = SVDpp(final_train, final_test, rate)\n",
    "    final_prediction_NMF = NMF(final_train, final_test)\n",
    "    final_prediction_slopeOne = slopeOne(final_train, final_test)\n",
    "    \n",
    "    pickle.dump(prediction_ALS, open('models/prediction_ALS.pkl', 'wb'))\n",
    "    pickle.dump(prediction_SGD, open('models/prediction_SGD.pkl', 'wb'))\n",
    "    pickle.dump(prediction_baseline, open('models/prediction_baseline.pkl', 'wb'))\n",
    "    pickle.dump(prediction_baseline_user, open('models/prediction_baseline_user.pkl', 'wb'))\n",
    "    pickle.dump(prediction_baseline_item, open('models/prediction_baseline_item.pkl', 'wb'))\n",
    "    pickle.dump(prediction_basicKNN, open('models/prediction_basicKNN.pkl', 'wb'))\n",
    "    pickle.dump(prediction_meansKNN, open('models/prediction_meansKNN.pkl', 'wb'))\n",
    "    pickle.dump(prediction_zscore_item, open('models/prediction_zscore_item.pkl', 'wb'))\n",
    "    pickle.dump(prediction_SVD, open('models/prediction_SVD.pkl', 'wb'))\n",
    "    pickle.dump(prediction_SVDpp, open('models/prediction_SVDpp.pkl', 'wb'))\n",
    "    pickle.dump(prediction_NMF, open('models/prediction_NMF.pkl', 'wb'))\n",
    "    pickle.dump(prediction_slopeOne, open('models/prediction_slopeOne.pkl', 'wb'))\n",
    "\n",
    "    pickle.dump(final_prediction_ALS, open('final_models/prediction_ALS.pkl', 'wb'))\n",
    "    pickle.dump(final_prediction_SGD, open('final_models/prediction_SGD.pkl', 'wb'))\n",
    "    pickle.dump(final_prediction_baseline, open('final_models/prediction_baseline.pkl', 'wb'))\n",
    "    pickle.dump(final_prediction_baseline_user, open('final_models/prediction_baseline_user.pkl', 'wb'))\n",
    "    pickle.dump(final_prediction_baseline_item, open('final_models/prediction_baseline_item.pkl', 'wb'))\n",
    "    pickle.dump(final_prediction_basicKNN, open('final_models/prediction_basicKNN.pkl', 'wb'))\n",
    "    pickle.dump(final_prediction_meansKNN, open('final_models/prediction_meansKNN.pkl', 'wb'))\n",
    "    pickle.dump(final_prediction_zscore_item, open('final_models/prediction_zscore_item.pkl', 'wb'))\n",
    "    pickle.dump(final_prediction_SVD, open('final_models/prediction_SVD.pkl', 'wb'))\n",
    "    pickle.dump(final_prediction_SVDpp, open('final_models/prediction_SVDpp.pkl', 'wb'))\n",
    "    pickle.dump(final_prediction_NMF, open('final_models/prediction_NMF.pkl', 'wb'))\n",
    "    pickle.dump(final_prediction_slopeOne, open('final_models/prediction_slopeOne.pkl', 'wb'))"
   ]
  },
  {
   "cell_type": "markdown",
   "metadata": {},
   "source": [
    "## Model blending"
   ]
  },
  {
   "cell_type": "code",
   "execution_count": 10,
   "metadata": {},
   "outputs": [],
   "source": [
    "# training set\n",
    "models = [prediction_ALS, prediction_SGD, prediction_baseline, prediction_baseline_user, prediction_baseline_item, prediction_basicKNN, prediction_meansKNN, prediction_zscore_item, prediction_SVD, prediction_SVDpp, prediction_NMF, prediction_slopeOne]\n",
    "\n",
    "blending = np.zeros(models[0].shape) # initialize\n",
    "for m in models:\n",
    "    blending = np.vstack((blending, m))\n",
    "blending = np.delete(blending, 0, axis=0) # remove initialization\n",
    "blending = np.transpose(blending)"
   ]
  },
  {
   "cell_type": "code",
   "execution_count": 11,
   "metadata": {},
   "outputs": [],
   "source": [
    "# final set\n",
    "final_models = [final_prediction_ALS, final_prediction_SGD, final_prediction_baseline, final_prediction_baseline_user, final_prediction_baseline_item, final_prediction_basicKNN, final_prediction_meansKNN, final_prediction_zscore_item, final_prediction_SVD, final_prediction_SVDpp, final_prediction_NMF, final_prediction_slopeOne]\n",
    "\n",
    "final_blending = np.zeros(final_models[0].shape) # initialize\n",
    "for m in final_models:\n",
    "    final_blending = np.vstack((final_blending, m))\n",
    "final_blending = np.delete(final_blending, 0, axis=0) # remove initialization\n",
    "final_blending = np.transpose(final_blending)"
   ]
  },
  {
   "cell_type": "code",
   "execution_count": 12,
   "metadata": {},
   "outputs": [],
   "source": [
    "# polynomial expansion\n",
    "degree = 2\n",
    "blending_poly, final_blending_poly = polynomial_features(blending, final_blending, degree)"
   ]
  },
  {
   "cell_type": "code",
   "execution_count": 13,
   "metadata": {},
   "outputs": [],
   "source": [
    "# establish weights for each model\n",
    "ridge = True\n",
    "\n",
    "if ridge:\n",
    "    final_result = ridge_regression(blending_poly, test_ratings, final_blending_poly, seed)\n",
    "else:\n",
    "    epochs = 100\n",
    "    patience = 15\n",
    "    final_result = neural_net(blending_poly, np.array(test_ratings), final_blending_poly, epochs, patience)"
   ]
  },
  {
   "cell_type": "markdown",
   "metadata": {},
   "source": [
    "## Submission!"
   ]
  },
  {
   "cell_type": "code",
   "execution_count": 14,
   "metadata": {},
   "outputs": [],
   "source": [
    "submission_path = 'final_submission_test.csv'\n",
    "create_submission(final_result, test_path, submission_path)"
   ]
  },
  {
   "cell_type": "code",
   "execution_count": null,
   "metadata": {},
   "outputs": [],
   "source": []
  }
 ],
 "metadata": {
  "kernelspec": {
   "display_name": "Python 3",
   "language": "python",
   "name": "python3"
  },
  "language_info": {
   "codemirror_mode": {
    "name": "ipython",
    "version": 3
   },
   "file_extension": ".py",
   "mimetype": "text/x-python",
   "name": "python",
   "nbconvert_exporter": "python",
   "pygments_lexer": "ipython3",
   "version": "3.7.5"
  }
 },
 "nbformat": 4,
 "nbformat_minor": 2
}
